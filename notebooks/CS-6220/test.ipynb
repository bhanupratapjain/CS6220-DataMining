{
 "cells": [
  {
   "cell_type": "code",
   "execution_count": 8,
   "metadata": {
    "collapsed": false
   },
   "outputs": [
    {
     "name": "stdout",
     "output_type": "stream",
     "text": [
      "hello\n"
     ]
    }
   ],
   "source": [
    "print(\"hello\")"
   ]
  },
  {
   "cell_type": "code",
   "execution_count": 10,
   "metadata": {
    "collapsed": false
   },
   "outputs": [
    {
     "name": "stdout",
     "output_type": "stream",
     "text": [
      "my first python notebook\n"
     ]
    }
   ],
   "source": [
    "print (\"my first python notebook\")"
   ]
  },
  {
   "cell_type": "code",
   "execution_count": 2,
   "metadata": {
    "collapsed": false
   },
   "outputs": [],
   "source": [
    "from math import log\n",
    "from __future__ import division\n",
    "def entropy(x,y):\n",
    "    px = x/(x+y)\n",
    "    py = y/(x+y)\n",
    "    entr = (-px*log(px,2)-py*log(py,2))\n",
    "    print \"prob x {},y {}, entr {}\".format(px,py,entr)"
   ]
  },
  {
   "cell_type": "code",
   "execution_count": 3,
   "metadata": {
    "collapsed": false
   },
   "outputs": [
    {
     "name": "stdout",
     "output_type": "stream",
     "text": [
      "prob x 0.75,y 0.25, entr 0.811278124459\n"
     ]
    }
   ],
   "source": [
    "entropy(3,1)"
   ]
  },
  {
   "cell_type": "code",
   "execution_count": 45,
   "metadata": {
    "collapsed": false
   },
   "outputs": [],
   "source": [
    "def cal(pi,h,t,ma,mb):\n",
    "    return [pi* pow(ma,h)*pow(1-ma,t), (1-pi)* pow(mb,h)*pow(1-mb,t)]\n",
    "\n",
    "def norm(raw):\n",
    "    return  [round(float(i)/sum(raw),3) for i in raw]\n",
    "\n",
    "def ua(a1,a2,a3):\n",
    "    return round((2*a1+4*a2+0*a3)/(4*(a1+a2+a3)),4)"
   ]
  },
  {
   "cell_type": "code",
   "execution_count": 52,
   "metadata": {
    "collapsed": false
   },
   "outputs": [
    {
     "name": "stdout",
     "output_type": "stream",
     "text": [
      "[0.003354736157238369, 0.17155979568637805]\n",
      "[0.019, 0.981]\n",
      "0.604\n",
      "0.1306\n"
     ]
    }
   ],
   "source": [
    "raw =  cal(pi=.569,h=0,t=4,ma=.7229,mb=.2057)\n",
    "print raw\n",
    "print norm(raw)\n",
    "print round(.6038,3)\n",
    "print ua(.335,.005,.981)"
   ]
  }
 ],
 "metadata": {
  "kernelspec": {
   "display_name": "Python 2",
   "language": "python",
   "name": "python2"
  },
  "language_info": {
   "codemirror_mode": {
    "name": "ipython",
    "version": 2
   },
   "file_extension": ".py",
   "mimetype": "text/x-python",
   "name": "python",
   "nbconvert_exporter": "python",
   "pygments_lexer": "ipython2",
   "version": "2.7.6"
  }
 },
 "nbformat": 4,
 "nbformat_minor": 0
}
