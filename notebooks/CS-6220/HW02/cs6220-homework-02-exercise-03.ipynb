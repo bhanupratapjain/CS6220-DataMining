{
 "cells": [
  {
   "cell_type": "code",
   "execution_count": 59,
   "metadata": {
    "collapsed": false
   },
   "outputs": [],
   "source": [
    "import numpy as np\n",
    "import matplotlib.pylab as pl\n",
    "from sklearn import preprocessing, cross_validation, svm, ensemble, neighbors, discriminant_analysis, naive_bayes\n",
    "%matplotlib inline\n",
    "from __future__ import print_function\n",
    "from sklearn.metrics import accuracy_score\n"
   ]
  },
  {
   "cell_type": "markdown",
   "metadata": {},
   "source": [
    "# CS 6220 - Fall 2016 - Homework 2 - Exercise 3"
   ]
  },
  {
   "cell_type": "markdown",
   "metadata": {},
   "source": [
    "Read in the data, and split out features and labels"
   ]
  },
  {
   "cell_type": "code",
   "execution_count": 8,
   "metadata": {
    "collapsed": false
   },
   "outputs": [
    {
     "name": "stdout",
     "output_type": "stream",
     "text": [
      "Reading the dataset: spambase/spambase.data\n"
     ]
    }
   ],
   "source": [
    "data_path = 'spambase/spambase.data'  \n",
    "print(\"Reading the dataset:\", data_path)\n",
    "data = np.genfromtxt(data_path, delimiter=',')\n",
    "X, y = data[:, :-1], data[:, -1]"
   ]
  },
  {
   "cell_type": "markdown",
   "metadata": {},
   "source": [
    "Plot a few features to get a rough idea of their distributions"
   ]
  },
  {
   "cell_type": "code",
   "execution_count": 9,
   "metadata": {
    "collapsed": false
   },
   "outputs": [
    {
     "data": {
      "image/png": "[encoded data removed]",
      "text/plain": [
       "<matplotlib.figure.Figure at 0x7f01d3671dd0>"
      ]
     },
     "metadata": {},
     "output_type": "display_data"
    }
   ],
   "source": [
    "# plot some features\n",
    "ax = pl.subplot(2,2,1)\n",
    "h = pl.hist(X[:,0])\n",
    "pl.subplot(2,2,2)\n",
    "h = pl.hist(X[:,5])\n",
    "pl.subplot(2,2,3)\n",
    "h = pl.hist(X[:,10])\n",
    "pl.subplot(2,2,4)\n",
    "h = pl.hist(X[:,15])"
   ]
  },
  {
   "cell_type": "markdown",
   "metadata": {},
   "source": [
    "## Exercise 3a"
   ]
  },
  {
   "cell_type": "code",
   "execution_count": 58,
   "metadata": {
    "collapsed": false
   },
   "outputs": [],
   "source": [
    "def classify(X, y, classifier, train_size=0.9):\n",
    "    X_train, X_test, y_train, y_test = cross_validation.train_test_split(X, y, train_size=train_size, random_state=0)\n",
    "    classifier.fit(X_train,y_train)\n",
    "    predictions = []\n",
    "    for i in range(len(X_test)):\n",
    "        predictions.append(classifier.predict(X_test[i].reshape(1, -1)))\n",
    "    return accuracy_score(predictions, y_test.reshape(-1, 1))"
   ]
  },
  {
   "cell_type": "code",
   "execution_count": 60,
   "metadata": {
    "collapsed": false
   },
   "outputs": [
    {
     "name": "stdout",
     "output_type": "stream",
     "text": [
      "test accuracy: 0.822125813449\n"
     ]
    }
   ],
   "source": [
    "print('test accuracy:', classify(X, y, svm.SVC()))"
   ]
  },
  {
   "cell_type": "markdown",
   "metadata": {},
   "source": [
    "## Exercise 3b"
   ]
  },
  {
   "cell_type": "code",
   "execution_count": 4,
   "metadata": {
    "collapsed": false
   },
   "outputs": [],
   "source": [
    "def classify_k_fold(X, y, classifier, folds=10, **kwargs):\n",
    "    return folds * [0.0,]"
   ]
  },
  {
   "cell_type": "markdown",
   "metadata": {},
   "source": [
    "## Exercise 3c"
   ]
  },
  {
   "cell_type": "code",
   "execution_count": 39,
   "metadata": {
    "collapsed": true
   },
   "outputs": [],
   "source": [
    "split_scores = {}"
   ]
  },
  {
   "cell_type": "code",
   "execution_count": 40,
   "metadata": {
    "collapsed": false
   },
   "outputs": [],
   "source": [
    "split_scores['unshuffled'] = classify_k_fold(X, y, \n",
    "                                             svm.SVC(),\n",
    "                                             shuffle=False)"
   ]
  },
  {
   "cell_type": "code",
   "execution_count": 41,
   "metadata": {
    "collapsed": true
   },
   "outputs": [],
   "source": [
    "split_scores['shuffled'] = classify_k_fold(X, y, \n",
    "                                           svm.SVC())"
   ]
  },
  {
   "cell_type": "code",
   "execution_count": 8,
   "metadata": {
    "collapsed": false
   },
   "outputs": [
    {
     "name": "stdout",
     "output_type": "stream",
     "text": [
      "shuffled: 0.000\n",
      "unshuffled: 0.000\n"
     ]
    }
   ],
   "source": [
    "for k in sorted(split_scores):\n",
    "    print('%s: %.3f' % (k, np.mean(split_scores[k])))"
   ]
  },
  {
   "cell_type": "markdown",
   "metadata": {},
   "source": [
    "## Exercise 3d"
   ]
  },
  {
   "cell_type": "code",
   "execution_count": 9,
   "metadata": {
    "collapsed": true
   },
   "outputs": [],
   "source": [
    "scaler_scores = {}"
   ]
  },
  {
   "cell_type": "code",
   "execution_count": 10,
   "metadata": {
    "collapsed": false
   },
   "outputs": [],
   "source": [
    "scaler_scores['unscaled'] = classify_k_fold(X, y, \n",
    "                                            svm.SVC())"
   ]
  },
  {
   "cell_type": "code",
   "execution_count": 11,
   "metadata": {
    "collapsed": true
   },
   "outputs": [],
   "source": [
    "scaler_scores['maxabs'] = classify_k_fold(X, y, \n",
    "                                          svm.SVC(), \n",
    "                                          scaler=preprocessing.MaxAbsScaler())"
   ]
  },
  {
   "cell_type": "code",
   "execution_count": 12,
   "metadata": {
    "collapsed": false
   },
   "outputs": [],
   "source": [
    "scaler_scores['standard'] = classify_k_fold(X, y, \n",
    "                                            svm.SVC(), \n",
    "                                            scaler=preprocessing.StandardScaler())"
   ]
  },
  {
   "cell_type": "code",
   "execution_count": 13,
   "metadata": {
    "collapsed": false
   },
   "outputs": [],
   "source": [
    "scaler_scores['robust'] = classify_k_fold(X, y, \n",
    "                                          svm.SVC(),\n",
    "                                          scaler=preprocessing.RobustScaler())"
   ]
  },
  {
   "cell_type": "code",
   "execution_count": 14,
   "metadata": {
    "collapsed": false
   },
   "outputs": [
    {
     "name": "stdout",
     "output_type": "stream",
     "text": [
      "maxabs: 0.000\n",
      "robust: 0.000\n",
      "standard: 0.000\n",
      "unscaled: 0.000\n"
     ]
    }
   ],
   "source": [
    "for k in sorted(scaler_scores):\n",
    "    print('%s: %.3f' % (k, np.mean(scaler_scores[k])))"
   ]
  },
  {
   "cell_type": "markdown",
   "metadata": {},
   "source": [
    "## Exercise 3f"
   ]
  },
  {
   "cell_type": "code",
   "execution_count": 15,
   "metadata": {
    "collapsed": true
   },
   "outputs": [],
   "source": [
    "kernel_scores = {}\n",
    "REPLACE_THIS = svm.SVC()"
   ]
  },
  {
   "cell_type": "code",
   "execution_count": 16,
   "metadata": {
    "collapsed": false
   },
   "outputs": [],
   "source": [
    "kernel_scores['linear'] = classify_k_fold(X, y, \n",
    "                                          REPLACE_THIS, \n",
    "                                          scaler=preprocessing.StandardScaler())"
   ]
  },
  {
   "cell_type": "code",
   "execution_count": 17,
   "metadata": {
    "collapsed": false
   },
   "outputs": [],
   "source": [
    "kernel_scores['poly-1'] = classify_k_fold(X, y, \n",
    "                                          REPLACE_THIS, \n",
    "                                          scaler=preprocessing.StandardScaler())"
   ]
  },
  {
   "cell_type": "code",
   "execution_count": 18,
   "metadata": {
    "collapsed": true
   },
   "outputs": [],
   "source": [
    "kernel_scores['poly-2'] = classify_k_fold(X, y, \n",
    "                                          REPLACE_THIS, \n",
    "                                          scaler=preprocessing.StandardScaler())"
   ]
  },
  {
   "cell_type": "code",
   "execution_count": 19,
   "metadata": {
    "collapsed": true
   },
   "outputs": [],
   "source": [
    "kernel_scores['poly-4'] = classify_k_fold(X, y, \n",
    "                                          REPLACE_THIS, \n",
    "                                          scaler=preprocessing.StandardScaler())"
   ]
  },
  {
   "cell_type": "code",
   "execution_count": 20,
   "metadata": {
    "collapsed": true
   },
   "outputs": [],
   "source": [
    "kernel_scores['rbf-0.001'] = classify_k_fold(X, y, \n",
    "                                             REPLACE_THIS, \n",
    "                                             scaler=preprocessing.StandardScaler())"
   ]
  },
  {
   "cell_type": "code",
   "execution_count": 21,
   "metadata": {
    "collapsed": true
   },
   "outputs": [],
   "source": [
    "kernel_scores['rbf-0.010'] = classify_k_fold(X, y, \n",
    "                                             REPLACE_THIS, \n",
    "                                             scaler=preprocessing.StandardScaler())"
   ]
  },
  {
   "cell_type": "code",
   "execution_count": 22,
   "metadata": {
    "collapsed": true
   },
   "outputs": [],
   "source": [
    "kernel_scores['rbf-0.100'] = classify_k_fold(X, y, \n",
    "                                             REPLACE_THIS, \n",
    "                                             scaler=preprocessing.StandardScaler())"
   ]
  },
  {
   "cell_type": "code",
   "execution_count": 23,
   "metadata": {
    "collapsed": true
   },
   "outputs": [],
   "source": [
    "kernel_scores['rbf-1.000'] = classify_k_fold(X, y, \n",
    "                                             REPLACE_THIS, \n",
    "                                             scaler=preprocessing.StandardScaler())"
   ]
  },
  {
   "cell_type": "code",
   "execution_count": 24,
   "metadata": {
    "collapsed": false
   },
   "outputs": [
    {
     "name": "stdout",
     "output_type": "stream",
     "text": [
      "linear: 0.000\n",
      "poly-1: 0.000\n",
      "poly-2: 0.000\n",
      "poly-4: 0.000\n",
      "rbf-0.001: 0.000\n",
      "rbf-0.010: 0.000\n",
      "rbf-0.100: 0.000\n",
      "rbf-1.000: 0.000\n"
     ]
    }
   ],
   "source": [
    "for k in sorted(kernel_scores):\n",
    "    print('%s: %.3f' % (k, np.mean(kernel_scores[k])))"
   ]
  },
  {
   "cell_type": "markdown",
   "metadata": {},
   "source": [
    "## Exercise 3e"
   ]
  },
  {
   "cell_type": "code",
   "execution_count": 25,
   "metadata": {
    "collapsed": true
   },
   "outputs": [],
   "source": [
    "classifier_scores = {}"
   ]
  },
  {
   "cell_type": "code",
   "execution_count": 26,
   "metadata": {
    "collapsed": false
   },
   "outputs": [],
   "source": [
    "classifier_scores['k-nearest-neigbor'] = classify_k_fold(X, y, \n",
    "                                           REPLACE_THIS, \n",
    "                                           scaler=preprocessing.StandardScaler())"
   ]
  },
  {
   "cell_type": "code",
   "execution_count": 27,
   "metadata": {
    "collapsed": true
   },
   "outputs": [],
   "source": [
    "classifier_scores['random-forest'] = classify_k_fold(X, y, \n",
    "                                       REPLACE_THIS, \n",
    "                                       scaler=preprocessing.StandardScaler())"
   ]
  },
  {
   "cell_type": "code",
   "execution_count": 28,
   "metadata": {
    "collapsed": true
   },
   "outputs": [],
   "source": [
    "classifier_scores['gradient-boost'] = classify_k_fold(X, y, \n",
    "                                   REPLACE_THIS, \n",
    "                                   scaler=preprocessing.StandardScaler())"
   ]
  },
  {
   "cell_type": "code",
   "execution_count": 29,
   "metadata": {
    "collapsed": true
   },
   "outputs": [],
   "source": [
    "classifier_scores['gaussian-naive-bayes'] = classify_k_fold(X, y, \n",
    "                                              REPLACE_THIS, \n",
    "                                              scaler=preprocessing.StandardScaler())"
   ]
  },
  {
   "cell_type": "code",
   "execution_count": 30,
   "metadata": {
    "collapsed": true
   },
   "outputs": [],
   "source": [
    "classifier_scores['linear-discriminant-analysis'] = classify_k_fold(X, y, \n",
    "                                                      REPLACE_THIS, \n",
    "                                                      scaler=preprocessing.StandardScaler())"
   ]
  },
  {
   "cell_type": "code",
   "execution_count": 31,
   "metadata": {
    "collapsed": false
   },
   "outputs": [],
   "source": [
    "classifier_scores['quadratic-discriminant-analysis'] = classify_k_fold(X, y, \n",
    "                                                         REPLACE_THIS, \n",
    "                                                         scaler=preprocessing.StandardScaler())"
   ]
  },
  {
   "cell_type": "code",
   "execution_count": 32,
   "metadata": {
    "collapsed": true
   },
   "outputs": [],
   "source": [
    "classifier_scores['support-vector-machine'] = classify_k_fold(X, y, \n",
    "                                                         REPLACE_THIS, \n",
    "                                                         scaler=preprocessing.StandardScaler())"
   ]
  },
  {
   "cell_type": "code",
   "execution_count": 33,
   "metadata": {
    "collapsed": false
   },
   "outputs": [
    {
     "name": "stdout",
     "output_type": "stream",
     "text": [
      "ada-boost: 0.000\n",
      "gaussian-naive-bayes: 0.000\n",
      "k-nearest-neigbor: 0.000\n",
      "linear-discriminant-analysis: 0.000\n",
      "quadratic-discriminant-analysis: 0.000\n",
      "random-forest: 0.000\n",
      "support-vector-machine: 0.000\n"
     ]
    }
   ],
   "source": [
    "for k in sorted(classifier_scores):\n",
    "    print('%s: %.3f' % (k, np.mean(classifier_scores[k])))"
   ]
  }
 ],
 "metadata": {
  "kernelspec": {
   "display_name": "Python 2",
   "language": "python",
   "name": "python2"
  },
  "language_info": {
   "codemirror_mode": {
    "name": "ipython",
    "version": 2
   },
   "file_extension": ".py",
   "mimetype": "text/x-python",
   "name": "python",
   "nbconvert_exporter": "python",
   "pygments_lexer": "ipython2",
   "version": "2.7.6"
  }
 },
 "nbformat": 4,
 "nbformat_minor": 0
}
