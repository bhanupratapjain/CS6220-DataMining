{
 "cells": [
  {
   "cell_type": "code",
   "execution_count": 85,
   "metadata": {
    "collapsed": false
   },
   "outputs": [],
   "source": [
    "from collections import Counter\n",
    "\n",
    "import numpy as np\n",
    "import matplotlib.pyplot as plt\n",
    "\n",
    "from  sklearn.metrics import accuracy_score\n",
    "from sklearn.neighbors import KNeighborsClassifier\n",
    "import pprint\n",
    "from sklearn import cross_validation\n",
    "from sklearn.cross_validation import cross_val_score\n",
    "\n",
    "%matplotlib inline\n",
    "\n",
    "\n",
    "class KNN:\n",
    "    def __init__(self, train_features, train_labels):\n",
    "        self.train_features = train_features\n",
    "        self.train_labels = train_labels\n",
    "\n",
    "    def get_distances(self, query_features):\n",
    "        diff = query_features - self.train_features\n",
    "        distances = np.sqrt(np.sum(diff ** 2, axis=1))\n",
    "        return distances\n",
    "\n",
    "    def get_k_nearest_neighbours(self, k, query_features):\n",
    "        distances = self.get_distances(query_features)\n",
    "        neighbours = np.argsort(distances)[0:k]\n",
    "        return neighbours\n",
    "\n",
    "    def predict(self, k, query_features):\n",
    "        neighbours = self.get_k_nearest_neighbours(k, query_features)\n",
    "        y_predictions = self.train_labels[neighbours]\n",
    "        counter = Counter(y_predictions)\n",
    "        y_predict = counter.most_common(1)[0][0]\n",
    "        return y_predict\n",
    "\n",
    "\n",
    "def z_normalize(train_features, test_features):\n",
    "    mean  = np.mean(train_features, axis=0)\n",
    "    std = np.std(train_features, axis=0)\n",
    "    return ((train_features - mean) / std),((test_features - mean) / std)\n",
    "\n",
    "\n",
    "def get_accuracy(test_labels, predictions):\n",
    "    correct_results = np.sum(np.isclose(test_labels, predictions))\n",
    "    return correct_results / float(len(test_labels))\n",
    "\n",
    "\n",
    "def get_data(filename):\n",
    "    data = np.loadtxt(filename, delimiter=',')\n",
    "    print \"Reading data from [{}] with Shape:{}\".format(filename, data.shape)\n",
    "    return data\n",
    "\n",
    "\n",
    "def k_fold_generator(X, y, k_fold):\n",
    "    subset_size = (X.shape[0]) / k_fold\n",
    "    for k in range(1, k_fold + 1):\n",
    "        start_valid = (k - 1) * subset_size\n",
    "        end_valid = start_valid + subset_size\n",
    "        valid_rows = np.arange(start_valid, end_valid)\n",
    "        train_rows = [x for x in range(X.shape[0]) if x not in valid_rows]\n",
    "        X_train = X[train_rows, :]\n",
    "        X_valid = X[valid_rows, :]\n",
    "        y_train = y[train_rows]\n",
    "        y_valid = y[valid_rows]\n",
    "        yield X_train, y_train, X_valid, y_valid\n",
    "\n",
    "\n",
    "def part_a():\n",
    "    train_features = get_data(\"spambase/spambase_train.txt\")\n",
    "    train_labels = get_data(\"spambase/spambase_train_label.txt\")\n",
    "    test_features = get_data(\"spambase/spambase_test.txt\")\n",
    "    test_labels = get_data(\"spambase/spambase_test_label.txt\")\n",
    "\n",
    "    knn = KNN(train_features=train_features, train_labels=train_labels)\n",
    "\n",
    "    k_values = [1, 5, 11, 21, 41, 61, 81, 101, 201, 401]\n",
    "    accuracy = []\n",
    "    for k in k_values:\n",
    "        predictions = []\n",
    "        for i in range(len(test_features)):\n",
    "            predictions.append(knn.predict(k, test_features[i]))\n",
    "        accuracy.append(get_accuracy(test_labels, predictions))\n",
    "\n",
    "    fig, ax = plt.subplots()\n",
    "    ax.plot(k_values, accuracy, 'bo-')\n",
    "    ax.set_ylabel(\"accuracy\")\n",
    "    ax.set_xlabel(\"k\")\n",
    "    ax.set_title(\"KNN: k vs. accuracy\")\n",
    "    \n",
    "    print\"###########################Output###########################\"\n",
    "\n",
    "    for i,k in enumerate(k_values):\n",
    "        print \"k = {}, accuracy = {}\".format(k_values[i],accuracy[i])\n",
    "    \n",
    "    max_index = np.argmax(np.array(accuracy))\n",
    "    print \"Optimal k={} with accuray={}\".format(k_values[max_index],accuracy[max_index])\n",
    "\n",
    "\n",
    "def part_b():\n",
    "    train_features = get_data(\"spambase/spambase_train.txt\")\n",
    "    train_labels = get_data(\"spambase/spambase_train_label.txt\")\n",
    "    test_features = get_data(\"spambase/spambase_test.txt\")\n",
    "    test_labels = get_data(\"spambase/spambase_test_label.txt\")\n",
    "\n",
    "    # Normalize\n",
    "    train_features,test_features  = z_normalize(train_features,test_features)\n",
    "\n",
    "    knn = KNN(train_features=train_features, train_labels=train_labels)\n",
    "\n",
    "    k_values = [1, 5, 11, 21, 41, 61, 81, 101, 201, 401]\n",
    "    accuracy = []\n",
    "    for k in k_values:\n",
    "        predictions = []\n",
    "        for i in range(len(test_features)):\n",
    "            predictions.append(knn.predict(k, test_features[i]))\n",
    "        accuracy.append(get_accuracy(test_labels, predictions))\n",
    "\n",
    "    fig, ax = plt.subplots(1)\n",
    "    # fig.set_size_inches(6, 8)\n",
    "    ax.plot(k_values, accuracy, 'bo-')\n",
    "    # ax.annotate('k=5',xy=(5,accuracy[1]))\n",
    "    ax.set_ylabel(\"accuracy\")\n",
    "    ax.set_xlabel(\"k\")\n",
    "    ax.set_title(\"KNN: k vs. accuracy\")\n",
    "    print\"###########################Output###########################\"\n",
    "\n",
    "    for i,k in enumerate(k_values):\n",
    "        print \"k = {}, accuracy = {}\".format(k_values[i],accuracy[i])\n",
    "    \n",
    "    max_index = np.argmax(np.array(accuracy))\n",
    "    print \"Optimal k={} with accuray={}\".format(k_values[max_index],accuracy[max_index])\n",
    "\n",
    "\n",
    "\n",
    "def part_c():\n",
    "    train_features = get_data(\"spambase/spambase_train.txt\")\n",
    "    train_labels = get_data(\"spambase/spambase_train_label.txt\")\n",
    "    test_features = get_data(\"spambase/spambase_test.txt\")\n",
    "    test_labels = get_data(\"spambase/spambase_test_label.txt\")\n",
    "\n",
    "    # Normalize\n",
    "    train_features, test_features = z_normalize(train_features,test_features)\n",
    "\n",
    "    knn = KNN(train_features=train_features, train_labels=train_labels)\n",
    "    k_values = [1, 5, 11, 21, 41, 61, 81, 101, 201, 401]\n",
    "    result = {}\n",
    "    print\"###########################Output###########################\"\n",
    "    for i in range(50):\n",
    "        predictions = []\n",
    "        for k in k_values:\n",
    "            predictions.append(knn.predict(k, test_features[i]))\n",
    "        result[i + 1] = map(lambda x: \"spam\" if x == 1.0 else \"no\", predictions)\n",
    "    pprint.pprint(result, width=150)\n",
    "    print \"#########################################################\"\n",
    "\n",
    "\n",
    "def part_d():\n",
    "    train_features = get_data(\"spambase/spambase_train.txt\")\n",
    "    train_labels = get_data(\"spambase/spambase_train_label.txt\")\n",
    "    test_features = get_data(\"spambase/spambase_test.txt\")\n",
    "    test_labels = get_data(\"spambase/spambase_test_label.txt\")\n",
    "    train_features, test_features = z_normalize(train_features,test_features)\n",
    "    k_values = np.arange(1,150)\n",
    "    cv = []\n",
    "    score = []\n",
    "    for k in k_values:\n",
    "        neigh = KNeighborsClassifier(n_neighbors=k)\n",
    "        score.append(cross_val_score(neigh, train_features, train_labels, cv=10))\n",
    "    # pprint.pprint(score)\n",
    "    accuracy_on_k_with_skl = np.mean(np.array(score), axis=1)\n",
    "    # pprint.pprint(accuracy_on_k_with_skl )\n",
    "    optimal_k_index_with_skl = np.argmax(accuracy_on_k_with_skl)\n",
    "    print \"Optimal Value with sklearn for K is [{}] with Accuracy [{}]\".format(k_values[optimal_k_index_with_skl],\n",
    "                                                                               accuracy_on_k_with_skl[\n",
    "                                                                                   optimal_k_index_with_skl])\n"
   ]
  },
  {
   "cell_type": "markdown",
   "metadata": {},
   "source": [
    "## Exercise 2.a"
   ]
  },
  {
   "cell_type": "code",
   "execution_count": 86,
   "metadata": {
    "collapsed": false
   },
   "outputs": [
    {
     "name": "stdout",
     "output_type": "stream",
     "text": [
      "Reading data from [spambase/spambase_train.txt] with Shape:(2300, 57)\n",
      "Reading data from [spambase/spambase_train_label.txt] with Shape:(2300,)\n",
      "Reading data from [spambase/spambase_test.txt] with Shape:(2301, 57)\n",
      "Reading data from [spambase/spambase_test_label.txt] with Shape:(2301,)\n",
      "###########################Output###########################\n",
      "k = 1, accuracy = 0.751847023033\n",
      "k = 5, accuracy = 0.754889178618\n",
      "k = 11, accuracy = 0.764884832681\n",
      "k = 21, accuracy = 0.746631899174\n",
      "k = 41, accuracy = 0.752281616688\n",
      "k = 61, accuracy = 0.737505432421\n",
      "k = 81, accuracy = 0.726640591047\n",
      "k = 101, accuracy = 0.728813559322\n",
      "k = 201, accuracy = 0.731421121252\n",
      "k = 401, accuracy = 0.719687092568\n",
      "Optimal k=11 with accuray=0.764884832681\n"
     ]
    },
    {
     "data": {
      "image/png": "[encoded data removed]",
      "text/plain": [
       "<matplotlib.figure.Figure at 0x7fae3a540350>"
      ]
     },
     "metadata": {},
     "output_type": "display_data"
    }
   ],
   "source": [
    "part_a()"
   ]
  },
  {
   "cell_type": "markdown",
   "metadata": {},
   "source": [
    "## Exercise 2.b"
   ]
  },
  {
   "cell_type": "code",
   "execution_count": 87,
   "metadata": {
    "collapsed": false
   },
   "outputs": [
    {
     "name": "stdout",
     "output_type": "stream",
     "text": [
      "Reading data from [spambase/spambase_train.txt] with Shape:(2300, 57)\n",
      "Reading data from [spambase/spambase_train_label.txt] with Shape:(2300,)\n",
      "Reading data from [spambase/spambase_test.txt] with Shape:(2301, 57)\n",
      "Reading data from [spambase/spambase_test_label.txt] with Shape:(2301,)\n",
      "###########################Output###########################\n",
      "k = 1, accuracy = 0.856149500217\n",
      "k = 5, accuracy = 0.870056497175\n",
      "k = 11, accuracy = 0.878748370274\n",
      "k = 21, accuracy = 0.884398087788\n",
      "k = 41, accuracy = 0.885267275098\n",
      "k = 61, accuracy = 0.882659713168\n",
      "k = 81, accuracy = 0.877444589309\n",
      "k = 101, accuracy = 0.875271621034\n",
      "k = 201, accuracy = 0.860060843112\n",
      "k = 401, accuracy = 0.83963494133\n",
      "Optimal k=41 with accuray=0.885267275098\n"
     ]
    },
    {
     "data": {
      "image/png": "[encoded data removed]",
      "text/plain": [
       "<matplotlib.figure.Figure at 0x7fae3a694690>"
      ]
     },
     "metadata": {},
     "output_type": "display_data"
    }
   ],
   "source": [
    "part_b()"
   ]
  },
  {
   "cell_type": "markdown",
   "metadata": {},
   "source": [
    "## Exercise 2.c"
   ]
  },
  {
   "cell_type": "code",
   "execution_count": 88,
   "metadata": {
    "collapsed": false,
    "scrolled": false
   },
   "outputs": [
    {
     "name": "stdout",
     "output_type": "stream",
     "text": [
      "Reading data from [spambase/spambase_train.txt] with Shape:(2300, 57)\n",
      "Reading data from [spambase/spambase_train_label.txt] with Shape:(2300,)\n",
      "Reading data from [spambase/spambase_test.txt] with Shape:(2301, 57)\n",
      "Reading data from [spambase/spambase_test_label.txt] with Shape:(2301,)\n",
      "###########################Output###########################\n",
      "{1: ['spam', 'spam', 'spam', 'spam', 'spam', 'spam', 'spam', 'spam', 'no', 'no'],\n",
      " 2: ['spam', 'spam', 'spam', 'spam', 'spam', 'spam', 'spam', 'spam', 'no', 'no'],\n",
      " 3: ['spam', 'spam', 'spam', 'spam', 'spam', 'spam', 'spam', 'spam', 'spam', 'spam'],\n",
      " 4: ['spam', 'spam', 'spam', 'spam', 'spam', 'spam', 'spam', 'spam', 'spam', 'spam'],\n",
      " 5: ['spam', 'spam', 'spam', 'spam', 'spam', 'spam', 'spam', 'spam', 'spam', 'spam'],\n",
      " 6: ['spam', 'spam', 'no', 'spam', 'no', 'no', 'no', 'no', 'spam', 'spam'],\n",
      " 7: ['spam', 'no', 'no', 'no', 'no', 'no', 'no', 'no', 'no', 'no'],\n",
      " 8: ['spam', 'spam', 'spam', 'spam', 'spam', 'spam', 'spam', 'spam', 'spam', 'spam'],\n",
      " 9: ['spam', 'spam', 'spam', 'spam', 'spam', 'spam', 'spam', 'spam', 'spam', 'spam'],\n",
      " 10: ['spam', 'spam', 'spam', 'spam', 'spam', 'spam', 'spam', 'spam', 'spam', 'spam'],\n",
      " 11: ['spam', 'spam', 'spam', 'spam', 'spam', 'spam', 'spam', 'spam', 'spam', 'spam'],\n",
      " 12: ['spam', 'spam', 'spam', 'spam', 'spam', 'spam', 'spam', 'spam', 'spam', 'spam'],\n",
      " 13: ['spam', 'spam', 'spam', 'spam', 'spam', 'spam', 'spam', 'no', 'no', 'no'],\n",
      " 14: ['spam', 'spam', 'spam', 'spam', 'spam', 'spam', 'spam', 'spam', 'no', 'no'],\n",
      " 15: ['spam', 'spam', 'spam', 'spam', 'spam', 'spam', 'spam', 'spam', 'spam', 'spam'],\n",
      " 16: ['spam', 'spam', 'spam', 'spam', 'spam', 'spam', 'spam', 'spam', 'spam', 'spam'],\n",
      " 17: ['spam', 'spam', 'spam', 'spam', 'spam', 'spam', 'spam', 'spam', 'spam', 'spam'],\n",
      " 18: ['spam', 'spam', 'spam', 'spam', 'spam', 'spam', 'spam', 'spam', 'spam', 'no'],\n",
      " 19: ['spam', 'spam', 'spam', 'spam', 'spam', 'spam', 'spam', 'spam', 'spam', 'spam'],\n",
      " 20: ['no', 'spam', 'spam', 'spam', 'spam', 'spam', 'spam', 'spam', 'spam', 'spam'],\n",
      " 21: ['spam', 'spam', 'spam', 'spam', 'spam', 'spam', 'spam', 'spam', 'spam', 'spam'],\n",
      " 22: ['spam', 'spam', 'spam', 'spam', 'spam', 'spam', 'spam', 'no', 'no', 'no'],\n",
      " 23: ['spam', 'spam', 'spam', 'spam', 'spam', 'spam', 'spam', 'spam', 'spam', 'spam'],\n",
      " 24: ['no', 'spam', 'spam', 'spam', 'spam', 'spam', 'spam', 'spam', 'spam', 'spam'],\n",
      " 25: ['spam', 'spam', 'spam', 'spam', 'spam', 'spam', 'spam', 'spam', 'spam', 'spam'],\n",
      " 26: ['spam', 'spam', 'spam', 'spam', 'spam', 'spam', 'spam', 'spam', 'spam', 'spam'],\n",
      " 27: ['spam', 'spam', 'spam', 'spam', 'spam', 'spam', 'spam', 'spam', 'spam', 'spam'],\n",
      " 28: ['spam', 'spam', 'spam', 'spam', 'spam', 'spam', 'spam', 'spam', 'spam', 'spam'],\n",
      " 29: ['spam', 'spam', 'spam', 'spam', 'spam', 'spam', 'spam', 'spam', 'no', 'no'],\n",
      " 30: ['spam', 'spam', 'spam', 'spam', 'no', 'no', 'no', 'no', 'no', 'no'],\n",
      " 31: ['spam', 'no', 'no', 'no', 'no', 'no', 'no', 'no', 'no', 'no'],\n",
      " 32: ['spam', 'spam', 'spam', 'spam', 'spam', 'spam', 'spam', 'spam', 'no', 'no'],\n",
      " 33: ['spam', 'spam', 'spam', 'spam', 'spam', 'no', 'no', 'no', 'no', 'no'],\n",
      " 34: ['spam', 'spam', 'spam', 'spam', 'spam', 'no', 'no', 'no', 'no', 'no'],\n",
      " 35: ['spam', 'spam', 'spam', 'spam', 'spam', 'spam', 'spam', 'spam', 'spam', 'spam'],\n",
      " 36: ['spam', 'spam', 'spam', 'spam', 'spam', 'spam', 'spam', 'spam', 'spam', 'spam'],\n",
      " 37: ['spam', 'spam', 'spam', 'spam', 'spam', 'spam', 'spam', 'spam', 'spam', 'spam'],\n",
      " 38: ['spam', 'spam', 'spam', 'spam', 'spam', 'spam', 'spam', 'spam', 'spam', 'spam'],\n",
      " 39: ['spam', 'spam', 'spam', 'spam', 'spam', 'spam', 'spam', 'spam', 'spam', 'spam'],\n",
      " 40: ['no', 'no', 'no', 'no', 'no', 'no', 'no', 'no', 'no', 'no'],\n",
      " 41: ['no', 'no', 'no', 'no', 'no', 'no', 'no', 'no', 'no', 'no'],\n",
      " 42: ['spam', 'spam', 'spam', 'spam', 'spam', 'spam', 'spam', 'spam', 'no', 'no'],\n",
      " 43: ['no', 'no', 'no', 'no', 'no', 'no', 'no', 'no', 'no', 'no'],\n",
      " 44: ['no', 'no', 'no', 'no', 'no', 'no', 'no', 'no', 'no', 'no'],\n",
      " 45: ['spam', 'spam', 'spam', 'spam', 'spam', 'spam', 'spam', 'spam', 'spam', 'spam'],\n",
      " 46: ['spam', 'spam', 'spam', 'spam', 'spam', 'spam', 'spam', 'spam', 'spam', 'spam'],\n",
      " 47: ['spam', 'spam', 'spam', 'spam', 'spam', 'spam', 'spam', 'spam', 'spam', 'spam'],\n",
      " 48: ['spam', 'spam', 'spam', 'spam', 'spam', 'spam', 'spam', 'spam', 'spam', 'spam'],\n",
      " 49: ['spam', 'spam', 'spam', 'spam', 'spam', 'spam', 'spam', 'spam', 'spam', 'spam'],\n",
      " 50: ['spam', 'spam', 'spam', 'spam', 'spam', 'spam', 'spam', 'spam', 'spam', 'spam']}\n",
      "#########################################################\n"
     ]
    }
   ],
   "source": [
    "part_c()"
   ]
  },
  {
   "cell_type": "markdown",
   "metadata": {},
   "source": [
    "## Exercise 2.d"
   ]
  },
  {
   "cell_type": "markdown",
   "metadata": {},
   "source": [
    "#### What can you conclude by comparing and examining the KNN performance in (a) and (b)?\n",
    "Findings from part a) and part b):\n",
    "\n",
    "1. Part A -->> Optimal K=11 , Accuracy = 0.76488483268144281\n",
    "2. Part B -->> Optimal K=41 , Accuracy = 0.88526727509778358\n",
    "\n",
    "Looking at the solutions we can say that, as input data for part b) is normalized and makes it better for KNN because with  normalizing we are centering and scaling the data, thus all the features contribute the same to the distance metric and our data becomes more dense which is always better.\n",
    "\n",
    "\n",
    "#### Give a method to select the optimal k for the KNN algorithm.\n",
    "A good method to find the optimal k would be Cross Validation. \n",
    "\n",
    "- We can divide the input data in x folds\n",
    "- Run each fold with possible values of k neighbors.\n",
    "- Find the average of accuracy for each fold on for all the k neighbors\n",
    "- Take max on all k"
   ]
  }
 ],
 "metadata": {
  "kernelspec": {
   "display_name": "Python 2",
   "language": "python",
   "name": "python2"
  },
  "language_info": {
   "codemirror_mode": {
    "name": "ipython",
    "version": 2
   },
   "file_extension": ".py",
   "mimetype": "text/x-python",
   "name": "python",
   "nbconvert_exporter": "python",
   "pygments_lexer": "ipython2",
   "version": "2.7.6"
  }
 },
 "nbformat": 4,
 "nbformat_minor": 0
}
