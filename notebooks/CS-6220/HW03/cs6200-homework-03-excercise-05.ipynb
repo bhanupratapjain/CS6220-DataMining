{
 "cells": [
  {
   "cell_type": "markdown",
   "metadata": {},
   "source": [
    "# CS 6220 - Fall 2016 - Homework 3 - Exercise 5"
   ]
  },
  {
   "cell_type": "code",
   "execution_count": 183,
   "metadata": {
    "collapsed": false,
    "scrolled": true
   },
   "outputs": [],
   "source": [
    "import numpy as np\n",
    "from scipy.io import arff\n",
    "import pandas as pd\n",
    "import pprint\n",
    "import matplotlib.pyplot as plt\n",
    "plt.style.use('ggplot')\n",
    "%matplotlib inline \n",
    "\n",
    "means = []\n",
    "stds = []\n",
    "def z_normalize(features):\n",
    "    return np.nan_to_num((features - np.mean(features, axis=0)) / np.std(features, axis=0))\n",
    "\n",
    "\n",
    "class Kmeans:\n",
    "    def __init__(self, k, random_centroids, trial, data, max_iterations):\n",
    "        self.k = k\n",
    "        self.X = data\n",
    "        self.max_iterations = max_iterations\n",
    "        self.trial = trial\n",
    "        self.random_c = np.array(random_centroids)\n",
    "        self.centroids = self.init_centroids()\n",
    "        self.clusters = None\n",
    "        self.converge()\n",
    "\n",
    "    def init_centroids(self):\n",
    "        start = (self.trial - 1) * self.k\n",
    "        end = self.trial * self.k\n",
    "        centroid_indices = self.random_c[start:end]\n",
    "        centroids = []\n",
    "        for ci in centroid_indices:\n",
    "            centroids.append(self.X[ci].flatten().tolist())\n",
    "        return centroids\n",
    "\n",
    "    def generate_clusters(self):\n",
    "        clusters = [[] for c in self.centroids]\n",
    "        for data_point in self.X:\n",
    "            distance = float(\"inf\")\n",
    "            closest_centriod_index = None\n",
    "            for cen_index, centriod in enumerate(self.centroids):\n",
    "                temp_distance = np.linalg.norm(data_point - centriod)\n",
    "                if temp_distance < distance:\n",
    "                    distance = temp_distance\n",
    "                    closest_centriod_index = cen_index\n",
    "            clusters[closest_centriod_index].append(data_point)\n",
    "        self.clusters = clusters\n",
    "\n",
    "    def sum_cluster(self, cluster):\n",
    "        sum = cluster[0]\n",
    "        for data_point in cluster[1:]:\n",
    "            sum += data_point\n",
    "        return sum\n",
    "\n",
    "    def meam_cluster(self, cluster):\n",
    "        sum = self.sum_cluster(cluster)\n",
    "        return sum / len(cluster)\n",
    "\n",
    "    def move_centriods(self):\n",
    "        new_centriods = []\n",
    "        for cluster in self.clusters:\n",
    "            new_centriods.append(np.mean(cluster, axis=0).tolist())\n",
    "        return new_centriods\n",
    "\n",
    "    def converge(self):\n",
    "        # pprint.pprint(self.centroids)\n",
    "        iteration = 0\n",
    "        while iteration <= self.max_iterations:\n",
    "            iteration += 1\n",
    "            # print \"iteration {}\".format(iteration)\n",
    "            self.generate_clusters()\n",
    "            old_centroids = self.centroids\n",
    "            self.centroids = self.move_centriods()\n",
    "            # print \"sse {}\".format(self.generate_sse())\n",
    "            if self.centroids == old_centroids:\n",
    "                #print \"{}-means, trail {}, converged after {} iterations\".format(self.k,self.trial,iteration)\n",
    "                break\n",
    "\n",
    "    def generate_sse(self):\n",
    "        distance = [[] for c in self.clusters]\n",
    "        for index, cluster in enumerate(self.clusters):\n",
    "            for data_point in cluster:\n",
    "                a = (data_point - self.centroids[index])\n",
    "                distance[index].append(a**2)\n",
    "        return np.sum(np.sum(distance))\n",
    "\n",
    "\n",
    "def load_data():\n",
    "    data, meta = arff.loadarff('data/segment.arff')\n",
    "    X = data[meta.names()[:-1]]  # everything but the last column\n",
    "    y = data[meta.names()[-1]]\n",
    "    X = X.view(np.float).reshape(\n",
    "        data.shape + (-1,))  # converts the record array to a normal numpy array\n",
    "    return X, y\n",
    "\n",
    "\n",
    "def get_random_centriod():\n",
    "    return [773, 1010, 240, 126, 319, 1666, 1215, 551, 668, 528, 1060, 168, 402, 80, 115, 221,\n",
    "            242, 1951, 1725, 754, 1469, 135, 877, 1287, 645, 272, 1203, 1258, 1716, 1158, 586,\n",
    "            1112, 1214, 153, 23, 510, 5, 1254, 156, 936, 1184, 1656, 244, 811, 1937, 1318, 27,\n",
    "            185, 1424, 190, 663, 1208, 170, 1507, 1912, 1176, 1616, 109, 274, 1, 1371, 258, 1332,\n",
    "            541, 662, 1483, 66, 12, 410, 1179, 1281, 145, 1410, 664, 155, 166, 1900, 1134, 1462,\n",
    "            954, 1818, 1679, 832, 1627, 1760, 1330, 913, 234, 1635, 1078, 640, 833, 392, 1425,\n",
    "            610, 1353, 1772, 908, 1964, 1260, 784, 520, 1363, 544, 426, 1146, 987, 612, 1685, 1121,\n",
    "            1740, 287, 1383, 1923, 1665, 19, 1239, 251, 309, 245, 384, 1306, 786, 1814, 7, 1203,\n",
    "            1068, 1493, 859, 233, 1846, 1119, 469, 1869, 609, 385, 1182, 1949, 1622, 719, 643,\n",
    "            1692, 1389, 120, 1034, 805, 266, 339, 826, 530, 1173, 802, 1495, 504, 1241, 427, 1555,\n",
    "            1597, 692, 178, 774, 1623, 1641, 661, 1242, 1757, 553, 1377, 1419, 306, 1838, 211, 356,\n",
    "            541, 1455, 741, 583, 1464, 209, 1615, 475, 1903, 555, 1046, 379, 1938, 417, 1747, 342,\n",
    "            1148, 1697, 1785, 298, 185, 1145, 197, 1207, 1857, 158, 130, 1721, 1587, 1455, 190,\n",
    "            177, 1345, 166, 1377, 1958, 1727, 1134, 1953, 1602, 114, 37, 164, 1548, 199, 1112, 128,\n",
    "            167, 102, 87, 25, 249, 1240, 1524, 198, 111, 1337, 1220, 1513, 1727, 159, 121, 1130,\n",
    "            1954, 1561, 1260, 150, 1613, 1152, 140, 1473, 1734, 137, 1156, 108, 110, 1829, 1491,\n",
    "            1799, 174, 847, 177, 1468, 97, 1611, 1706, 1123, 79, 171, 130, 100, 143, 1641, 181,\n",
    "            135, 1280, 1442, 1188, 133, 99, 186, 1854, 27, 160, 130, 1495, 101, 1411, 814, 109, 95,\n",
    "            111, 1582, 1816, 170, 1663, 1737, 1710, 543, 1143, 1844, 159, 48, 375, 1315, 1311, 1422]\n",
    "\n",
    "\n",
    "def part_a():\n",
    "    X, y = load_data()\n",
    "    X= z_normalize(X)\n",
    "    k_values = range(1, 13)\n",
    "    sse_matrix = []\n",
    "    for k in k_values:\n",
    "        trial_sse = []\n",
    "        for i in range(1, 26):\n",
    "            kmeans = Kmeans(data=X, k=k, random_centroids=get_random_centriod(), trial=i, max_iterations=50)\n",
    "            trial_sse.append(kmeans.generate_sse())\n",
    "        sse_matrix.append(trial_sse)\n",
    "    #pprint.pprint(sse_matrix, width=25)\n",
    "    means.extend(map(lambda x: np.mean(x), sse_matrix))\n",
    "    stds.extend(map(lambda x: np.std(x), sse_matrix))\n",
    "    means_error_confidence=map(lambda x: x*2, stds)\n",
    "    #print means\n",
    "    #print stds\n",
    "    #print means_error_confidence\n",
    "    fig, ax = plt.subplots()\n",
    "    fig.set_size_inches(10.0, 14.0)\n",
    "    ax.errorbar(k_values, means,fmt='o-',yerr=means_error_confidence,ecolor='b', capthick=2, capsize=2)\n",
    "    ax.set_ylabel(\"mean sse\")\n",
    "    ax.set_xlabel(\"k\")\n",
    "    ax.set_title(\"k-means: k vs. mean sse\")\n",
    "    \n",
    "def part_b():\n",
    "    #print means\n",
    "    #print stds\n",
    "    pd.set_option('display.notebook_repr_html', True)\n",
    "    df=pd.DataFrame(range(1,13),columns=['k'])\n",
    "    df['uk']  = means\n",
    "    mean_add2sd = [x+(2*stds[i]) for i,x in enumerate(means)]\n",
    "    mean_sub2sd = [x-(2*stds[i]) for i,x in enumerate(means)]\n",
    "    df['uk-2sigmak']  = mean_sub2sd\n",
    "    df['uk+2sigmak']  = mean_add2sd\n",
    "    print df\n",
    "    #print df.describe()"
   ]
  },
  {
   "cell_type": "markdown",
   "metadata": {},
   "source": [
    "## Exercise 5a"
   ]
  },
  {
   "cell_type": "code",
   "execution_count": 184,
   "metadata": {
    "collapsed": false,
    "scrolled": false
   },
   "outputs": [
    {
     "data": {
      "image/png": "[encoded data removed]",
      "text/plain": [
       "<matplotlib.figure.Figure at 0x7fc7064047d0>"
      ]
     },
     "metadata": {},
     "output_type": "display_data"
    }
   ],
   "source": [
    "part_a()"
   ]
  },
  {
   "cell_type": "markdown",
   "metadata": {},
   "source": [
    "## Exercise 5b"
   ]
  },
  {
   "cell_type": "code",
   "execution_count": 185,
   "metadata": {
    "collapsed": false
   },
   "outputs": [
    {
     "name": "stdout",
     "output_type": "stream",
     "text": [
      "     k            uk    uk-2sigmak    uk+2sigmak\n",
      "0    1  41580.000000  41580.000000  41580.000000\n",
      "1    2  29603.698815  24188.689830  35018.707800\n",
      "2    3  24202.404840  22337.892790  26066.916890\n",
      "3    4  20849.320874  18191.426160  23507.215589\n",
      "4    5  18211.498918  15230.066723  21192.931112\n",
      "5    6  16377.679456  12550.548616  20204.810296\n",
      "6    7  14667.751544  11692.779326  17642.723761\n",
      "7    8  13323.858857  10982.322434  15665.395281\n",
      "8    9  12499.111689  10916.105657  14082.117721\n",
      "9   10  11479.509424  10397.175854  12561.842993\n",
      "10  11  10973.591590   9700.294483  12246.888698\n",
      "11  12  10512.041784   9141.308079  11882.775489\n",
      "\n",
      "[12 rows x 4 columns]\n"
     ]
    }
   ],
   "source": [
    "part_b()"
   ]
  },
  {
   "cell_type": "markdown",
   "metadata": {},
   "source": [
    "## Exercise 5c"
   ]
  },
  {
   "cell_type": "markdown",
   "metadata": {},
   "source": [
    "**As `k` increases and approaches the total number of examples N, what value\n",
    "does the SSE approach?**\n",
    "\n",
    "As `k` increases and goes close to total number of examples N, SSE decreases and reduces to zero as `k=(total number of points)`."
   ]
  },
  {
   "cell_type": "markdown",
   "metadata": {},
   "source": [
    "**What problems does this cause in terms of using\n",
    "SSE to choose an optimal `k`?**\n",
    "\n",
    "We cannot use SSE for choosing `k` as it gives rise to model complexity. We cannot apply model selection or parameter choice algorithms such as cross validation as they are all based on min. error. Here with increase of `k` error always reduces, and reaches to zero, which will result in choosing `k=N` which is not we want.  "
   ]
  },
  {
   "cell_type": "markdown",
   "metadata": {},
   "source": [
    "## Exercise 5d"
   ]
  },
  {
   "cell_type": "markdown",
   "metadata": {},
   "source": [
    "**Can you suggest another measure of cluster compactness and separation that might be more useful than SSE?**\n",
    "\n",
    "We can use Scatter Criteria to measure the compactness and separation of the cluster. The scalar scatter criteria are derived from the scatter matrices, reflecting the within-cluster scatter, the between-cluster scatter which gives the compactness and separation."
   ]
  }
 ],
 "metadata": {
  "kernelspec": {
   "display_name": "Python 2",
   "language": "python",
   "name": "python2"
  },
  "language_info": {
   "codemirror_mode": {
    "name": "ipython",
    "version": 2
   },
   "file_extension": ".py",
   "mimetype": "text/x-python",
   "name": "python",
   "nbconvert_exporter": "python",
   "pygments_lexer": "ipython2",
   "version": "2.7.6"
  }
 },
 "nbformat": 4,
 "nbformat_minor": 1
}
